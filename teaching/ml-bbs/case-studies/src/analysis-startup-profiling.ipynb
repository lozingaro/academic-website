{
 "cells": [
  {
   "cell_type": "code",
   "execution_count": 2,
   "metadata": {},
   "outputs": [
    {
     "name": "stdout",
     "output_type": "stream",
     "text": [
      "Requirement already satisfied: pandas in /opt/homebrew/Caskroom/miniforge/base/envs/notebook39/lib/python3.9/site-packages (2.1.3)\n",
      "Requirement already satisfied: xlrd in /opt/homebrew/Caskroom/miniforge/base/envs/notebook39/lib/python3.9/site-packages (2.0.1)\n",
      "Requirement already satisfied: numpy<2,>=1.22.4 in /opt/homebrew/Caskroom/miniforge/base/envs/notebook39/lib/python3.9/site-packages (from pandas) (1.26.0)\n",
      "Requirement already satisfied: python-dateutil>=2.8.2 in /opt/homebrew/Caskroom/miniforge/base/envs/notebook39/lib/python3.9/site-packages (from pandas) (2.8.2)\n",
      "Requirement already satisfied: pytz>=2020.1 in /opt/homebrew/Caskroom/miniforge/base/envs/notebook39/lib/python3.9/site-packages (from pandas) (2023.3.post1)\n",
      "Requirement already satisfied: tzdata>=2022.1 in /opt/homebrew/Caskroom/miniforge/base/envs/notebook39/lib/python3.9/site-packages (from pandas) (2023.3)\n",
      "Requirement already satisfied: six>=1.5 in /opt/homebrew/Caskroom/miniforge/base/envs/notebook39/lib/python3.9/site-packages (from python-dateutil>=2.8.2->pandas) (1.16.0)\n"
     ]
    },
    {
     "name": "stderr",
     "output_type": "stream",
     "text": [
      "/opt/homebrew/Caskroom/miniforge/base/envs/notebook39/lib/python3.9/site-packages/openpyxl/worksheet/_reader.py:329: UserWarning: Unknown extension is not supported and will be removed\n",
      "  warn(msg)\n",
      "/opt/homebrew/Caskroom/miniforge/base/envs/notebook39/lib/python3.9/site-packages/openpyxl/worksheet/_reader.py:329: UserWarning: Unknown extension is not supported and will be removed\n",
      "  warn(msg)\n",
      "/opt/homebrew/Caskroom/miniforge/base/envs/notebook39/lib/python3.9/site-packages/openpyxl/worksheet/_reader.py:329: UserWarning: Unknown extension is not supported and will be removed\n",
      "  warn(msg)\n",
      "/opt/homebrew/Caskroom/miniforge/base/envs/notebook39/lib/python3.9/site-packages/openpyxl/worksheet/_reader.py:329: UserWarning: Unknown extension is not supported and will be removed\n",
      "  warn(msg)\n",
      "/opt/homebrew/Caskroom/miniforge/base/envs/notebook39/lib/python3.9/site-packages/openpyxl/worksheet/_reader.py:329: UserWarning: Unknown extension is not supported and will be removed\n",
      "  warn(msg)\n"
     ]
    }
   ],
   "source": [
    "# ! pip install pandas xlrd\n",
    "import pandas as pd\n",
    "\n",
    "df_companies = pd.read_excel('/Users/lozingaro/Developer/academic-website/teaching/ml-bbs/case-studies/data/crunchbase_monthly_export.xlsx', sheet_name='Companies')\n",
    "df_rounds = pd.read_excel('/Users/lozingaro/Developer/academic-website/teaching/ml-bbs/case-studies/data/crunchbase_monthly_export.xlsx', sheet_name='Rounds')\n",
    "df_investments = pd.read_excel('/Users/lozingaro/Developer/academic-website/teaching/ml-bbs/case-studies/data/crunchbase_monthly_export.xlsx', sheet_name='Investments')\n",
    "df_acquisitions = pd.read_excel('/Users/lozingaro/Developer/academic-website/teaching/ml-bbs/case-studies/data/crunchbase_monthly_export.xlsx', sheet_name='Acquisitions')\n",
    "df_additions = pd.read_excel('/Users/lozingaro/Developer/academic-website/teaching/ml-bbs/case-studies/data/crunchbase_monthly_export.xlsx', sheet_name='Additions')\n"
   ]
  },
  {
   "cell_type": "code",
   "execution_count": 4,
   "metadata": {},
   "outputs": [],
   "source": [
    "import pandas as pd\n",
    "\n",
    "file_path = '/Users/lozingaro/Developer/academic-website/teaching/ml-bbs/case-studies/data/investments_VC.csv'\n",
    "# open csv file as df\n",
    "df = pd.read_csv(file_path, sep=',', header=0, encoding='iso-8859-1')"
   ]
  },
  {
   "cell_type": "code",
   "execution_count": 6,
   "metadata": {},
   "outputs": [
    {
     "name": "stdout",
     "output_type": "stream",
     "text": [
      "|    | permalink                       | name               | homepage_url                 | category_list                              |  market    |\n",
      "|---:|:--------------------------------|:-------------------|:-----------------------------|:-------------------------------------------|:-----------|\n",
      "|  0 | /organization/waywire           | #waywire           | http://www.waywire.com       | |Entertainment|Politics|Social Media|News| | News       |\n",
      "|  1 | /organization/tv-communications | &TV Communications | http://enjoyandtv.com        | |Games|                                    | Games      |\n",
      "|  2 | /organization/rock-your-paper   | 'Rock' Your Paper  | http://www.rockyourpaper.org | |Publishing|Education|                     | Publishing |\n"
     ]
    }
   ],
   "source": [
    "# print in markdown first 3 rows and 5 columns\n",
    "print(df.iloc[:3, :5].to_markdown())"
   ]
  }
 ],
 "metadata": {
  "kernelspec": {
   "display_name": "notebook39",
   "language": "python",
   "name": "python3"
  },
  "language_info": {
   "codemirror_mode": {
    "name": "ipython",
    "version": 3
   },
   "file_extension": ".py",
   "mimetype": "text/x-python",
   "name": "python",
   "nbconvert_exporter": "python",
   "pygments_lexer": "ipython3",
   "version": "3.9.18"
  }
 },
 "nbformat": 4,
 "nbformat_minor": 2
}
