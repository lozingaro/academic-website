{
 "cells": [
  {
   "cell_type": "code",
   "execution_count": 2,
   "metadata": {},
   "outputs": [
    {
     "name": "stdout",
     "output_type": "stream",
     "text": [
      "Requirement already satisfied: pandas in /opt/homebrew/Caskroom/miniforge/base/envs/notebook39/lib/python3.9/site-packages (2.1.3)\n",
      "Requirement already satisfied: xlrd in /opt/homebrew/Caskroom/miniforge/base/envs/notebook39/lib/python3.9/site-packages (2.0.1)\n",
      "Requirement already satisfied: numpy<2,>=1.22.4 in /opt/homebrew/Caskroom/miniforge/base/envs/notebook39/lib/python3.9/site-packages (from pandas) (1.26.0)\n",
      "Requirement already satisfied: python-dateutil>=2.8.2 in /opt/homebrew/Caskroom/miniforge/base/envs/notebook39/lib/python3.9/site-packages (from pandas) (2.8.2)\n",
      "Requirement already satisfied: pytz>=2020.1 in /opt/homebrew/Caskroom/miniforge/base/envs/notebook39/lib/python3.9/site-packages (from pandas) (2023.3.post1)\n",
      "Requirement already satisfied: tzdata>=2022.1 in /opt/homebrew/Caskroom/miniforge/base/envs/notebook39/lib/python3.9/site-packages (from pandas) (2023.3)\n",
      "Requirement already satisfied: six>=1.5 in /opt/homebrew/Caskroom/miniforge/base/envs/notebook39/lib/python3.9/site-packages (from python-dateutil>=2.8.2->pandas) (1.16.0)\n"
     ]
    },
    {
     "name": "stderr",
     "output_type": "stream",
     "text": [
      "/opt/homebrew/Caskroom/miniforge/base/envs/notebook39/lib/python3.9/site-packages/openpyxl/worksheet/_reader.py:329: UserWarning: Unknown extension is not supported and will be removed\n",
      "  warn(msg)\n",
      "/opt/homebrew/Caskroom/miniforge/base/envs/notebook39/lib/python3.9/site-packages/openpyxl/worksheet/_reader.py:329: UserWarning: Unknown extension is not supported and will be removed\n",
      "  warn(msg)\n",
      "/opt/homebrew/Caskroom/miniforge/base/envs/notebook39/lib/python3.9/site-packages/openpyxl/worksheet/_reader.py:329: UserWarning: Unknown extension is not supported and will be removed\n",
      "  warn(msg)\n",
      "/opt/homebrew/Caskroom/miniforge/base/envs/notebook39/lib/python3.9/site-packages/openpyxl/worksheet/_reader.py:329: UserWarning: Unknown extension is not supported and will be removed\n",
      "  warn(msg)\n",
      "/opt/homebrew/Caskroom/miniforge/base/envs/notebook39/lib/python3.9/site-packages/openpyxl/worksheet/_reader.py:329: UserWarning: Unknown extension is not supported and will be removed\n",
      "  warn(msg)\n"
     ]
    }
   ],
   "source": [
    "# ! pip install pandas xlrd\n",
    "import pandas as pd\n",
    "\n",
    "df_companies = pd.read_excel('/Users/lozingaro/Developer/academic-website/teaching/ml-bbs/case-studies/data/crunchbase_monthly_export.xlsx', sheet_name='Companies')\n",
    "df_rounds = pd.read_excel('/Users/lozingaro/Developer/academic-website/teaching/ml-bbs/case-studies/data/crunchbase_monthly_export.xlsx', sheet_name='Rounds')\n",
    "df_investments = pd.read_excel('/Users/lozingaro/Developer/academic-website/teaching/ml-bbs/case-studies/data/crunchbase_monthly_export.xlsx', sheet_name='Investments')\n",
    "df_acquisitions = pd.read_excel('/Users/lozingaro/Developer/academic-website/teaching/ml-bbs/case-studies/data/crunchbase_monthly_export.xlsx', sheet_name='Acquisitions')\n",
    "df_additions = pd.read_excel('/Users/lozingaro/Developer/academic-website/teaching/ml-bbs/case-studies/data/crunchbase_monthly_export.xlsx', sheet_name='Additions')\n"
   ]
  },
  {
   "cell_type": "code",
   "execution_count": 1,
   "metadata": {},
   "outputs": [],
   "source": [
    "import pandas as pd\n",
    "\n",
    "file_path = '/Users/lozingaro/Developer/academic-website/teaching/ml-bbs/case-studies/data/investments_VC.csv'\n",
    "# open csv file as df\n",
    "df = pd.read_csv(file_path, sep=',', header=0, encoding='iso-8859-1')\n",
    "\n",
    "# save a copu of the file as excel\n",
    "df.to_excel('/Users/lozingaro/Developer/academic-website/teaching/ml-bbs/case-studies/data/investments_VC.xlsx', index=False)"
   ]
  },
  {
   "cell_type": "code",
   "execution_count": 19,
   "metadata": {},
   "outputs": [
    {
     "name": "stdout",
     "output_type": "stream",
     "text": [
      "| name          | homepage_url          |  funding_total_usd    | status    | country_code   |\n",
      "|:--------------|:----------------------|:----------------------|:----------|:---------------|\n",
      "| .Club Domains | http://nic.club/      | 70,00,000             | nan       | USA            |\n",
      "| .Fox Networks | http://www.dotfox.com | 49,12,393             | closed    | ARG            |\n",
      "| 0-6.com       | http://www.0-6.com    | 20,00,000             | operating | nan            |\n"
     ]
    }
   ],
   "source": [
    "# print in markdown first 3 rows and columns 1, 2, 3, 6 and no index\n",
    "print(df.iloc[[5,6,7], [1, 2, 5, 6, 7]].to_markdown(index=False))"
   ]
  }
 ],
 "metadata": {
  "kernelspec": {
   "display_name": "notebook39",
   "language": "python",
   "name": "python3"
  },
  "language_info": {
   "codemirror_mode": {
    "name": "ipython",
    "version": 3
   },
   "file_extension": ".py",
   "mimetype": "text/x-python",
   "name": "python",
   "nbconvert_exporter": "python",
   "pygments_lexer": "ipython3",
   "version": "3.9.18"
  }
 },
 "nbformat": 4,
 "nbformat_minor": 2
}
