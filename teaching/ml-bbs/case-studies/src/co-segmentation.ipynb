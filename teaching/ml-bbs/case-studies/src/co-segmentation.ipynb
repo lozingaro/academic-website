{
 "cells": [
  {
   "cell_type": "markdown",
   "metadata": {},
   "source": [
    "# Clustering Companies Based on Stock Price Movements\n",
    "*credit [Aslihan Demirkaya](http://github.com/AslihanDemirkaya)*\n",
    "\n",
    "## Introduction\n",
    "\n",
    "In this work, we will apply Principal Component Analysis (PCA), t-Distributed Stochastic Neighbor Embedding (TSNE), K-means clustering and Hierarchical clustering. We will construct our dataset using the two datasets that can be obtained here: https://www.kaggle.com/ehallmar/daily-historical-stock-prices-1970-2018. The two datasets that we use as our source, have daily stock prices for a selection of several thousand stock tickers from NYSE and NASDAQ. The dataset we will work on covers the dates between '2017-08-24' AND '2018-08-24' and the 11 industries with the most number of observations. Our aim is to cluster the records so that the companies in the same industry will be grouped together.\n",
    "\n",
    " \n",
    "\n",
    "## Exploring the Dataset\n",
    "\n",
    "As mentioned earlier, we will use two datasets as our source. Both are very large in size so we will use `data.table` to increase reading speed. The first dataset is `historical_stock_prices.csv` and the second one is `historical_stocks.csv`. The first and the second datsets have `ticker` in common. While constructing our data, we will need features from both sets. Just a note, we will use `SQL` for table manipulation.\n",
    "\n",
    "The first dataset mostly has numerical variables as follows:"
   ]
  },
  {
   "cell_type": "code",
   "execution_count": 6,
   "metadata": {},
   "outputs": [],
   "source": [
    "# ! pip install pandas\n",
    "import pandas as pd\n",
    "\n",
    "# Replace with the correct file paths in your environment\n",
    "historical_stock_prices_path = \"../data/historical_stock_prices.csv\"\n",
    "historical_stocks_path = \"../data/historical_stocks.csv\"\n",
    "\n",
    "# Loading and displaying the first few rows of historical_stock_prices\n",
    "historical_stock_prices = pd.read_csv(historical_stock_prices_path)\n",
    "\n",
    "# Loading and displaying the first few rows of historical_stocks\n",
    "historical_stocks = pd.read_csv(historical_stocks_path)"
   ]
  },
  {
   "cell_type": "code",
   "execution_count": 4,
   "metadata": {},
   "outputs": [
    {
     "data": {
      "text/html": [
       "<div>\n",
       "<style scoped>\n",
       "    .dataframe tbody tr th:only-of-type {\n",
       "        vertical-align: middle;\n",
       "    }\n",
       "\n",
       "    .dataframe tbody tr th {\n",
       "        vertical-align: top;\n",
       "    }\n",
       "\n",
       "    .dataframe thead th {\n",
       "        text-align: right;\n",
       "    }\n",
       "</style>\n",
       "<table border=\"1\" class=\"dataframe\">\n",
       "  <thead>\n",
       "    <tr style=\"text-align: right;\">\n",
       "      <th></th>\n",
       "      <th>ticker</th>\n",
       "      <th>open</th>\n",
       "      <th>close</th>\n",
       "      <th>adj_close</th>\n",
       "      <th>low</th>\n",
       "      <th>high</th>\n",
       "      <th>volume</th>\n",
       "      <th>date</th>\n",
       "    </tr>\n",
       "  </thead>\n",
       "  <tbody>\n",
       "    <tr>\n",
       "      <th>0</th>\n",
       "      <td>AHH</td>\n",
       "      <td>11.50</td>\n",
       "      <td>11.58</td>\n",
       "      <td>8.493155</td>\n",
       "      <td>11.25</td>\n",
       "      <td>11.68</td>\n",
       "      <td>4633900</td>\n",
       "      <td>2013-05-08</td>\n",
       "    </tr>\n",
       "    <tr>\n",
       "      <th>1</th>\n",
       "      <td>AHH</td>\n",
       "      <td>11.66</td>\n",
       "      <td>11.55</td>\n",
       "      <td>8.471151</td>\n",
       "      <td>11.50</td>\n",
       "      <td>11.66</td>\n",
       "      <td>275800</td>\n",
       "      <td>2013-05-09</td>\n",
       "    </tr>\n",
       "    <tr>\n",
       "      <th>2</th>\n",
       "      <td>AHH</td>\n",
       "      <td>11.55</td>\n",
       "      <td>11.60</td>\n",
       "      <td>8.507822</td>\n",
       "      <td>11.50</td>\n",
       "      <td>11.60</td>\n",
       "      <td>277100</td>\n",
       "      <td>2013-05-10</td>\n",
       "    </tr>\n",
       "    <tr>\n",
       "      <th>3</th>\n",
       "      <td>AHH</td>\n",
       "      <td>11.63</td>\n",
       "      <td>11.65</td>\n",
       "      <td>8.544494</td>\n",
       "      <td>11.55</td>\n",
       "      <td>11.65</td>\n",
       "      <td>147400</td>\n",
       "      <td>2013-05-13</td>\n",
       "    </tr>\n",
       "    <tr>\n",
       "      <th>4</th>\n",
       "      <td>AHH</td>\n",
       "      <td>11.60</td>\n",
       "      <td>11.53</td>\n",
       "      <td>8.456484</td>\n",
       "      <td>11.50</td>\n",
       "      <td>11.60</td>\n",
       "      <td>184100</td>\n",
       "      <td>2013-05-14</td>\n",
       "    </tr>\n",
       "  </tbody>\n",
       "</table>\n",
       "</div>"
      ],
      "text/plain": [
       "  ticker   open  close  adj_close    low   high   volume        date\n",
       "0    AHH  11.50  11.58   8.493155  11.25  11.68  4633900  2013-05-08\n",
       "1    AHH  11.66  11.55   8.471151  11.50  11.66   275800  2013-05-09\n",
       "2    AHH  11.55  11.60   8.507822  11.50  11.60   277100  2013-05-10\n",
       "3    AHH  11.63  11.65   8.544494  11.55  11.65   147400  2013-05-13\n",
       "4    AHH  11.60  11.53   8.456484  11.50  11.60   184100  2013-05-14"
      ]
     },
     "execution_count": 4,
     "metadata": {},
     "output_type": "execute_result"
    }
   ],
   "source": [
    "historical_stock_prices.head()"
   ]
  },
  {
   "cell_type": "markdown",
   "metadata": {},
   "source": [
    "The second data set has categorical data as follows: "
   ]
  },
  {
   "cell_type": "code",
   "execution_count": 5,
   "metadata": {},
   "outputs": [
    {
     "data": {
      "text/html": [
       "<div>\n",
       "<style scoped>\n",
       "    .dataframe tbody tr th:only-of-type {\n",
       "        vertical-align: middle;\n",
       "    }\n",
       "\n",
       "    .dataframe tbody tr th {\n",
       "        vertical-align: top;\n",
       "    }\n",
       "\n",
       "    .dataframe thead th {\n",
       "        text-align: right;\n",
       "    }\n",
       "</style>\n",
       "<table border=\"1\" class=\"dataframe\">\n",
       "  <thead>\n",
       "    <tr style=\"text-align: right;\">\n",
       "      <th></th>\n",
       "      <th>ticker</th>\n",
       "      <th>exchange</th>\n",
       "      <th>name</th>\n",
       "      <th>sector</th>\n",
       "      <th>industry</th>\n",
       "    </tr>\n",
       "  </thead>\n",
       "  <tbody>\n",
       "    <tr>\n",
       "      <th>0</th>\n",
       "      <td>PIH</td>\n",
       "      <td>NASDAQ</td>\n",
       "      <td>1347 PROPERTY INSURANCE HOLDINGS, INC.</td>\n",
       "      <td>FINANCE</td>\n",
       "      <td>PROPERTY-CASUALTY INSURERS</td>\n",
       "    </tr>\n",
       "    <tr>\n",
       "      <th>1</th>\n",
       "      <td>PIHPP</td>\n",
       "      <td>NASDAQ</td>\n",
       "      <td>1347 PROPERTY INSURANCE HOLDINGS, INC.</td>\n",
       "      <td>FINANCE</td>\n",
       "      <td>PROPERTY-CASUALTY INSURERS</td>\n",
       "    </tr>\n",
       "    <tr>\n",
       "      <th>2</th>\n",
       "      <td>TURN</td>\n",
       "      <td>NASDAQ</td>\n",
       "      <td>180 DEGREE CAPITAL CORP.</td>\n",
       "      <td>FINANCE</td>\n",
       "      <td>FINANCE/INVESTORS SERVICES</td>\n",
       "    </tr>\n",
       "    <tr>\n",
       "      <th>3</th>\n",
       "      <td>FLWS</td>\n",
       "      <td>NASDAQ</td>\n",
       "      <td>1-800 FLOWERS.COM, INC.</td>\n",
       "      <td>CONSUMER SERVICES</td>\n",
       "      <td>OTHER SPECIALTY STORES</td>\n",
       "    </tr>\n",
       "    <tr>\n",
       "      <th>4</th>\n",
       "      <td>FCCY</td>\n",
       "      <td>NASDAQ</td>\n",
       "      <td>1ST CONSTITUTION BANCORP (NJ)</td>\n",
       "      <td>FINANCE</td>\n",
       "      <td>SAVINGS INSTITUTIONS</td>\n",
       "    </tr>\n",
       "  </tbody>\n",
       "</table>\n",
       "</div>"
      ],
      "text/plain": [
       "  ticker exchange                                    name             sector  \\\n",
       "0    PIH   NASDAQ  1347 PROPERTY INSURANCE HOLDINGS, INC.            FINANCE   \n",
       "1  PIHPP   NASDAQ  1347 PROPERTY INSURANCE HOLDINGS, INC.            FINANCE   \n",
       "2   TURN   NASDAQ                180 DEGREE CAPITAL CORP.            FINANCE   \n",
       "3   FLWS   NASDAQ                 1-800 FLOWERS.COM, INC.  CONSUMER SERVICES   \n",
       "4   FCCY   NASDAQ           1ST CONSTITUTION BANCORP (NJ)            FINANCE   \n",
       "\n",
       "                     industry  \n",
       "0  PROPERTY-CASUALTY INSURERS  \n",
       "1  PROPERTY-CASUALTY INSURERS  \n",
       "2  FINANCE/INVESTORS SERVICES  \n",
       "3      OTHER SPECIALTY STORES  \n",
       "4        SAVINGS INSTITUTIONS  "
      ]
     },
     "execution_count": 5,
     "metadata": {},
     "output_type": "execute_result"
    }
   ],
   "source": [
    "historical_stocks.head()"
   ]
  },
  {
   "cell_type": "markdown",
   "metadata": {},
   "source": [
    "We need to inner join these two datasets and will select the features we need. Note that both datasets have `ticker` in common."
   ]
  },
  {
   "cell_type": "code",
   "execution_count": 7,
   "metadata": {},
   "outputs": [],
   "source": [
    "import pandas as pd\n",
    "\n",
    "# Assuming historical_stock_prices and historical_stocks are already loaded as Pandas DataFrames\n",
    "# Perform the INNER JOIN\n",
    "merged_data = pd.merge(historical_stock_prices, historical_stocks, on='ticker')\n",
    "\n",
    "# Selecting the specific columns: 'open', 'date', 'ticker' (from historical_stock_prices), and 'industry' (from historical_stocks)\n",
    "stocks = merged_data[['open', 'date', 'ticker', 'industry']]"
   ]
  },
  {
   "cell_type": "code",
   "execution_count": 8,
   "metadata": {},
   "outputs": [
    {
     "data": {
      "text/html": [
       "<div>\n",
       "<style scoped>\n",
       "    .dataframe tbody tr th:only-of-type {\n",
       "        vertical-align: middle;\n",
       "    }\n",
       "\n",
       "    .dataframe tbody tr th {\n",
       "        vertical-align: top;\n",
       "    }\n",
       "\n",
       "    .dataframe thead th {\n",
       "        text-align: right;\n",
       "    }\n",
       "</style>\n",
       "<table border=\"1\" class=\"dataframe\">\n",
       "  <thead>\n",
       "    <tr style=\"text-align: right;\">\n",
       "      <th></th>\n",
       "      <th>open</th>\n",
       "      <th>date</th>\n",
       "      <th>ticker</th>\n",
       "      <th>industry</th>\n",
       "    </tr>\n",
       "  </thead>\n",
       "  <tbody>\n",
       "    <tr>\n",
       "      <th>0</th>\n",
       "      <td>11.50</td>\n",
       "      <td>2013-05-08</td>\n",
       "      <td>AHH</td>\n",
       "      <td>REAL ESTATE</td>\n",
       "    </tr>\n",
       "    <tr>\n",
       "      <th>1</th>\n",
       "      <td>11.66</td>\n",
       "      <td>2013-05-09</td>\n",
       "      <td>AHH</td>\n",
       "      <td>REAL ESTATE</td>\n",
       "    </tr>\n",
       "    <tr>\n",
       "      <th>2</th>\n",
       "      <td>11.55</td>\n",
       "      <td>2013-05-10</td>\n",
       "      <td>AHH</td>\n",
       "      <td>REAL ESTATE</td>\n",
       "    </tr>\n",
       "    <tr>\n",
       "      <th>3</th>\n",
       "      <td>11.63</td>\n",
       "      <td>2013-05-13</td>\n",
       "      <td>AHH</td>\n",
       "      <td>REAL ESTATE</td>\n",
       "    </tr>\n",
       "    <tr>\n",
       "      <th>4</th>\n",
       "      <td>11.60</td>\n",
       "      <td>2013-05-14</td>\n",
       "      <td>AHH</td>\n",
       "      <td>REAL ESTATE</td>\n",
       "    </tr>\n",
       "  </tbody>\n",
       "</table>\n",
       "</div>"
      ],
      "text/plain": [
       "    open        date ticker     industry\n",
       "0  11.50  2013-05-08    AHH  REAL ESTATE\n",
       "1  11.66  2013-05-09    AHH  REAL ESTATE\n",
       "2  11.55  2013-05-10    AHH  REAL ESTATE\n",
       "3  11.63  2013-05-13    AHH  REAL ESTATE\n",
       "4  11.60  2013-05-14    AHH  REAL ESTATE"
      ]
     },
     "execution_count": 8,
     "metadata": {},
     "output_type": "execute_result"
    }
   ],
   "source": [
    "# Displaying the result\n",
    "stocks.head()"
   ]
  },
  {
   "cell_type": "markdown",
   "metadata": {},
   "source": [
    "Now we are interested in the observations of `stocks` that are between '2017-08-24' and '2018-08-24'. In the below code, we construct the dataset `stocks_2018`.\n"
   ]
  },
  {
   "cell_type": "code",
   "execution_count": 10,
   "metadata": {},
   "outputs": [
    {
     "name": "stderr",
     "output_type": "stream",
     "text": [
      "/var/folders/94/x3ml_gpx1fqdj4djb6rrt3640000gp/T/ipykernel_36314/2164580028.py:2: SettingWithCopyWarning: \n",
      "A value is trying to be set on a copy of a slice from a DataFrame\n",
      "\n",
      "See the caveats in the documentation: https://pandas.pydata.org/pandas-docs/stable/user_guide/indexing.html#returning-a-view-versus-a-copy\n",
      "  stocks.loc['date'] = pd.to_datetime(stocks['date'])\n"
     ]
    }
   ],
   "source": [
    "# Convert the 'date' column to datetime format for accurate comparison\n",
    "stocks.loc['date'] = pd.to_datetime(stocks['date'])\n",
    "\n",
    "# Filtering the data for dates between '2017-08-24' and '2018-08-24'\n",
    "stocks_2018 = stocks[(stocks['date'] >= '2017-08-24') &\n",
    "                     (stocks['date'] <= '2018-08-24')]"
   ]
  },
  {
   "cell_type": "code",
   "execution_count": 11,
   "metadata": {},
   "outputs": [
    {
     "data": {
      "text/html": [
       "<div>\n",
       "<style scoped>\n",
       "    .dataframe tbody tr th:only-of-type {\n",
       "        vertical-align: middle;\n",
       "    }\n",
       "\n",
       "    .dataframe tbody tr th {\n",
       "        vertical-align: top;\n",
       "    }\n",
       "\n",
       "    .dataframe thead th {\n",
       "        text-align: right;\n",
       "    }\n",
       "</style>\n",
       "<table border=\"1\" class=\"dataframe\">\n",
       "  <thead>\n",
       "    <tr style=\"text-align: right;\">\n",
       "      <th></th>\n",
       "      <th>open</th>\n",
       "      <th>date</th>\n",
       "      <th>ticker</th>\n",
       "      <th>industry</th>\n",
       "    </tr>\n",
       "  </thead>\n",
       "  <tbody>\n",
       "    <tr>\n",
       "      <th>1083</th>\n",
       "      <td>13.4</td>\n",
       "      <td>2017-08-24</td>\n",
       "      <td>AHH</td>\n",
       "      <td>REAL ESTATE</td>\n",
       "    </tr>\n",
       "    <tr>\n",
       "      <th>1084</th>\n",
       "      <td>13.39</td>\n",
       "      <td>2017-08-25</td>\n",
       "      <td>AHH</td>\n",
       "      <td>REAL ESTATE</td>\n",
       "    </tr>\n",
       "    <tr>\n",
       "      <th>1085</th>\n",
       "      <td>13.4</td>\n",
       "      <td>2017-08-28</td>\n",
       "      <td>AHH</td>\n",
       "      <td>REAL ESTATE</td>\n",
       "    </tr>\n",
       "    <tr>\n",
       "      <th>1086</th>\n",
       "      <td>13.25</td>\n",
       "      <td>2017-08-29</td>\n",
       "      <td>AHH</td>\n",
       "      <td>REAL ESTATE</td>\n",
       "    </tr>\n",
       "    <tr>\n",
       "      <th>1087</th>\n",
       "      <td>13.21</td>\n",
       "      <td>2017-08-30</td>\n",
       "      <td>AHH</td>\n",
       "      <td>REAL ESTATE</td>\n",
       "    </tr>\n",
       "  </tbody>\n",
       "</table>\n",
       "</div>"
      ],
      "text/plain": [
       "       open       date ticker     industry\n",
       "1083   13.4 2017-08-24    AHH  REAL ESTATE\n",
       "1084  13.39 2017-08-25    AHH  REAL ESTATE\n",
       "1085   13.4 2017-08-28    AHH  REAL ESTATE\n",
       "1086  13.25 2017-08-29    AHH  REAL ESTATE\n",
       "1087  13.21 2017-08-30    AHH  REAL ESTATE"
      ]
     },
     "execution_count": 11,
     "metadata": {},
     "output_type": "execute_result"
    }
   ],
   "source": [
    "# Displaying the result\n",
    "stocks_2018.head()"
   ]
  },
  {
   "cell_type": "markdown",
   "metadata": {},
   "source": [
    "Now, we will pick the `industry` with the highest count in `ticker`. What we mean by this is for instance there are `n` companies that belong to the industry `A`. We will pick the first 11 industries where the corresponding `n` values of these industries are the first 11 when ordered from biggest to smallest.\t\n",
    "\n",
    "Let's start this process by selecting the two features `ticker` and `industry`. Note that we want the distinct pairs. Otherwise we will count the repeated pairs with distict dates. We do not want that. That's why we will do this in two steps. "
   ]
  },
  {
   "cell_type": "code",
   "execution_count": 13,
   "metadata": {},
   "outputs": [
    {
     "data": {
      "text/html": [
       "<div>\n",
       "<style scoped>\n",
       "    .dataframe tbody tr th:only-of-type {\n",
       "        vertical-align: middle;\n",
       "    }\n",
       "\n",
       "    .dataframe tbody tr th {\n",
       "        vertical-align: top;\n",
       "    }\n",
       "\n",
       "    .dataframe thead th {\n",
       "        text-align: right;\n",
       "    }\n",
       "</style>\n",
       "<table border=\"1\" class=\"dataframe\">\n",
       "  <thead>\n",
       "    <tr style=\"text-align: right;\">\n",
       "      <th></th>\n",
       "      <th>ticker</th>\n",
       "      <th>industry</th>\n",
       "    </tr>\n",
       "  </thead>\n",
       "  <tbody>\n",
       "    <tr>\n",
       "      <th>1083</th>\n",
       "      <td>AHH</td>\n",
       "      <td>REAL ESTATE</td>\n",
       "    </tr>\n",
       "    <tr>\n",
       "      <th>2948</th>\n",
       "      <td>APO</td>\n",
       "      <td>INVESTMENT MANAGERS</td>\n",
       "    </tr>\n",
       "    <tr>\n",
       "      <th>5898</th>\n",
       "      <td>PEZ</td>\n",
       "      <td>NaN</td>\n",
       "    </tr>\n",
       "    <tr>\n",
       "      <th>7048</th>\n",
       "      <td>CRCM</td>\n",
       "      <td>OTHER CONSUMER SERVICES</td>\n",
       "    </tr>\n",
       "    <tr>\n",
       "      <th>11069</th>\n",
       "      <td>GTN</td>\n",
       "      <td>BROADCASTING</td>\n",
       "    </tr>\n",
       "  </tbody>\n",
       "</table>\n",
       "</div>"
      ],
      "text/plain": [
       "      ticker                 industry\n",
       "1083     AHH              REAL ESTATE\n",
       "2948     APO      INVESTMENT MANAGERS\n",
       "5898     PEZ                      NaN\n",
       "7048    CRCM  OTHER CONSUMER SERVICES\n",
       "11069    GTN             BROADCASTING"
      ]
     },
     "execution_count": 13,
     "metadata": {},
     "output_type": "execute_result"
    }
   ],
   "source": [
    "# Selecting distinct combinations of 'ticker' and 'industry'\n",
    "df = stocks_2018[['ticker', 'industry']].drop_duplicates()\n",
    "\n",
    "# Displaying the result\n",
    "df.head()"
   ]
  },
  {
   "cell_type": "markdown",
   "metadata": {},
   "source": [
    "The second step is to count the `ticker` for the corresponding industry and pick the first 12. The reason why we pick 12 but not 11 is the `N/A` values and as seen below it has the highest count.\n"
   ]
  },
  {
   "cell_type": "code",
   "execution_count": 15,
   "metadata": {},
   "outputs": [
    {
     "data": {
      "text/plain": [
       "industry\n",
       "MAJOR BANKS                                                      328\n",
       "REAL ESTATE INVESTMENT TRUSTS                                    216\n",
       "BUSINESS SERVICES                                                155\n",
       "INDUSTRIAL MACHINERY/COMPONENTS                                  154\n",
       "OIL & GAS PRODUCTION                                             153\n",
       "COMPUTER SOFTWARE: PREPACKAGED SOFTWARE                          142\n",
       "TELECOMMUNICATIONS EQUIPMENT                                     125\n",
       "EDP SERVICES                                                     116\n",
       "SEMICONDUCTORS                                                   104\n",
       "PROPERTY-CASUALTY INSURERS                                        92\n",
       "MEDICAL/DENTAL INSTRUMENTS                                        85\n",
       "BIOTECHNOLOGY: BIOLOGICAL PRODUCTS (NO DIAGNOSTIC SUBSTANCES)     83\n",
       "dtype: int64"
      ]
     },
     "execution_count": 15,
     "metadata": {},
     "output_type": "execute_result"
    }
   ],
   "source": [
    "# Group by 'industry' and count the occurrences\n",
    "industry_counts = df.groupby('industry').size()\n",
    "\n",
    "# Sort the counts in descending order and select the top 12, excluding the first one\n",
    "top_industries = industry_counts.sort_values(ascending=False)[1:13]\n",
    "\n",
    "# Displaying the result\n",
    "top_industries"
   ]
  },
  {
   "cell_type": "markdown",
   "metadata": {},
   "source": [
    "After we determine our 11 industries, now we will construct the data set `stocks_11industry` that has all the obervations with the corresponding 11 industries. We do this by using the following code:"
   ]
  },
  {
   "cell_type": "code",
   "execution_count": 19,
   "metadata": {},
   "outputs": [
    {
     "data": {
      "text/html": [
       "<div>\n",
       "<style scoped>\n",
       "    .dataframe tbody tr th:only-of-type {\n",
       "        vertical-align: middle;\n",
       "    }\n",
       "\n",
       "    .dataframe tbody tr th {\n",
       "        vertical-align: top;\n",
       "    }\n",
       "\n",
       "    .dataframe thead th {\n",
       "        text-align: right;\n",
       "    }\n",
       "</style>\n",
       "<table border=\"1\" class=\"dataframe\">\n",
       "  <thead>\n",
       "    <tr style=\"text-align: right;\">\n",
       "      <th></th>\n",
       "      <th>open</th>\n",
       "      <th>date</th>\n",
       "      <th>ticker</th>\n",
       "      <th>industry</th>\n",
       "    </tr>\n",
       "  </thead>\n",
       "  <tbody>\n",
       "    <tr>\n",
       "      <th>0</th>\n",
       "      <td>10.23</td>\n",
       "      <td>2017-08-24</td>\n",
       "      <td>VIAV</td>\n",
       "      <td>SEMICONDUCTORS</td>\n",
       "    </tr>\n",
       "    <tr>\n",
       "      <th>1</th>\n",
       "      <td>10.24</td>\n",
       "      <td>2017-08-25</td>\n",
       "      <td>VIAV</td>\n",
       "      <td>SEMICONDUCTORS</td>\n",
       "    </tr>\n",
       "    <tr>\n",
       "      <th>2</th>\n",
       "      <td>10.13</td>\n",
       "      <td>2017-08-28</td>\n",
       "      <td>VIAV</td>\n",
       "      <td>SEMICONDUCTORS</td>\n",
       "    </tr>\n",
       "    <tr>\n",
       "      <th>3</th>\n",
       "      <td>10.03</td>\n",
       "      <td>2017-08-29</td>\n",
       "      <td>VIAV</td>\n",
       "      <td>SEMICONDUCTORS</td>\n",
       "    </tr>\n",
       "    <tr>\n",
       "      <th>4</th>\n",
       "      <td>10.09</td>\n",
       "      <td>2017-08-30</td>\n",
       "      <td>VIAV</td>\n",
       "      <td>SEMICONDUCTORS</td>\n",
       "    </tr>\n",
       "  </tbody>\n",
       "</table>\n",
       "</div>"
      ],
      "text/plain": [
       "    open       date ticker        industry\n",
       "0  10.23 2017-08-24   VIAV  SEMICONDUCTORS\n",
       "1  10.24 2017-08-25   VIAV  SEMICONDUCTORS\n",
       "2  10.13 2017-08-28   VIAV  SEMICONDUCTORS\n",
       "3  10.03 2017-08-29   VIAV  SEMICONDUCTORS\n",
       "4  10.09 2017-08-30   VIAV  SEMICONDUCTORS"
      ]
     },
     "execution_count": 19,
     "metadata": {},
     "output_type": "execute_result"
    }
   ],
   "source": [
    "# Convert top_industries to a DataFrame and reset index\n",
    "top_industries_df = top_industries.reset_index(name='count')\n",
    "\n",
    "# Perform the INNER JOIN\n",
    "stocks_11industry = pd.merge(\n",
    "    stocks_2018, top_industries_df[['industry']], on='industry')\n",
    "\n",
    "# Selecting the specific columns: 'open', 'date', 'ticker' (from stocks_2018), and 'industry'\n",
    "stocks_11industry = stocks_11industry[['open', 'date', 'ticker', 'industry']]\n",
    "\n",
    "# Displaying the first few rows of the result\n",
    "stocks_11industry.head()"
   ]
  },
  {
   "cell_type": "markdown",
   "metadata": {},
   "source": [
    "In the below code, we create a new variable `no`. For each `ticker`, the dates will be ordered and each date for that corresponding `ticker` will be assigned to a number. The earliest date will be assigned to 1, the next business day will be assigned to 2, and so on. Note that if there were no none business days, such as weekends, we wouldn't need that additional variable."
   ]
  },
  {
   "cell_type": "code",
   "execution_count": 20,
   "metadata": {},
   "outputs": [
    {
     "data": {
      "text/html": [
       "<div>\n",
       "<style scoped>\n",
       "    .dataframe tbody tr th:only-of-type {\n",
       "        vertical-align: middle;\n",
       "    }\n",
       "\n",
       "    .dataframe tbody tr th {\n",
       "        vertical-align: top;\n",
       "    }\n",
       "\n",
       "    .dataframe thead th {\n",
       "        text-align: right;\n",
       "    }\n",
       "</style>\n",
       "<table border=\"1\" class=\"dataframe\">\n",
       "  <thead>\n",
       "    <tr style=\"text-align: right;\">\n",
       "      <th></th>\n",
       "      <th>open</th>\n",
       "      <th>date</th>\n",
       "      <th>ticker</th>\n",
       "      <th>industry</th>\n",
       "      <th>no</th>\n",
       "    </tr>\n",
       "  </thead>\n",
       "  <tbody>\n",
       "    <tr>\n",
       "      <th>390866</th>\n",
       "      <td>66.059998</td>\n",
       "      <td>2017-08-24</td>\n",
       "      <td>AABA</td>\n",
       "      <td>EDP SERVICES</td>\n",
       "      <td>1</td>\n",
       "    </tr>\n",
       "    <tr>\n",
       "      <th>390867</th>\n",
       "      <td>65.410004</td>\n",
       "      <td>2017-08-25</td>\n",
       "      <td>AABA</td>\n",
       "      <td>EDP SERVICES</td>\n",
       "      <td>2</td>\n",
       "    </tr>\n",
       "    <tr>\n",
       "      <th>390868</th>\n",
       "      <td>64.43</td>\n",
       "      <td>2017-08-28</td>\n",
       "      <td>AABA</td>\n",
       "      <td>EDP SERVICES</td>\n",
       "      <td>3</td>\n",
       "    </tr>\n",
       "    <tr>\n",
       "      <th>390869</th>\n",
       "      <td>62.299999</td>\n",
       "      <td>2017-08-29</td>\n",
       "      <td>AABA</td>\n",
       "      <td>EDP SERVICES</td>\n",
       "      <td>4</td>\n",
       "    </tr>\n",
       "    <tr>\n",
       "      <th>390870</th>\n",
       "      <td>63.650002</td>\n",
       "      <td>2017-08-30</td>\n",
       "      <td>AABA</td>\n",
       "      <td>EDP SERVICES</td>\n",
       "      <td>5</td>\n",
       "    </tr>\n",
       "  </tbody>\n",
       "</table>\n",
       "</div>"
      ],
      "text/plain": [
       "             open       date ticker      industry  no\n",
       "390866  66.059998 2017-08-24   AABA  EDP SERVICES   1\n",
       "390867  65.410004 2017-08-25   AABA  EDP SERVICES   2\n",
       "390868      64.43 2017-08-28   AABA  EDP SERVICES   3\n",
       "390869  62.299999 2017-08-29   AABA  EDP SERVICES   4\n",
       "390870  63.650002 2017-08-30   AABA  EDP SERVICES   5"
      ]
     },
     "execution_count": 20,
     "metadata": {},
     "output_type": "execute_result"
    }
   ],
   "source": [
    "# Sorting the DataFrame first by 'ticker' and then by 'date'\n",
    "stocks_11industry_sorted = stocks_11industry.sort_values(by=['ticker', 'date'])\n",
    "\n",
    "# Adding a row number within each 'ticker' group\n",
    "stocks_11industry_sorted['no'] = stocks_11industry_sorted.groupby('ticker').cumcount() + 1\n",
    "\n",
    "# Displaying the result\n",
    "stocks_11industry_sorted.head()"
   ]
  },
  {
   "cell_type": "markdown",
   "metadata": {},
   "source": [
    "Now, our aim is to add a new variable `open2` to our dataframe. This variable is same as `open` however, it is one business day shifted. We will use this variable `open2` and `open` to calculate the daily return. We also change the name of the variable from `open` to `open1`."
   ]
  },
  {
   "cell_type": "code",
   "execution_count": 24,
   "metadata": {},
   "outputs": [],
   "source": [
    "# Performing a self-join on added_no\n",
    "added_open2 = pd.merge(\n",
    "    stocks_11industry_sorted,\n",
    "    stocks_11industry_sorted,\n",
    "    on='ticker',\n",
    "    suffixes=('', '_2')\n",
    ")\n",
    "\n",
    "# Filtering to get the rows where ar2.no is ar1.no + 1\n",
    "added_open2 = added_open2[added_open2['no_2'] == added_open2['no'] + 1]\n",
    "\n",
    "# Selecting specific columns and renaming as needed\n",
    "added_open2 = added_open2[['open', 'date',\n",
    "                           'ticker', 'industry', 'no', 'no_2', 'open_2']]\n",
    "added_open2.rename(columns={'open': 'open1', 'open_2': 'open2'}, inplace=True)"
   ]
  },
  {
   "cell_type": "markdown",
   "metadata": {},
   "source": [
    "Now let's look at our new dataframe with the new variables. "
   ]
  },
  {
   "cell_type": "code",
   "execution_count": 23,
   "metadata": {},
   "outputs": [
    {
     "data": {
      "text/html": [
       "<div>\n",
       "<style scoped>\n",
       "    .dataframe tbody tr th:only-of-type {\n",
       "        vertical-align: middle;\n",
       "    }\n",
       "\n",
       "    .dataframe tbody tr th {\n",
       "        vertical-align: top;\n",
       "    }\n",
       "\n",
       "    .dataframe thead th {\n",
       "        text-align: right;\n",
       "    }\n",
       "</style>\n",
       "<table border=\"1\" class=\"dataframe\">\n",
       "  <thead>\n",
       "    <tr style=\"text-align: right;\">\n",
       "      <th></th>\n",
       "      <th>open1</th>\n",
       "      <th>date</th>\n",
       "      <th>ticker</th>\n",
       "      <th>industry</th>\n",
       "      <th>no</th>\n",
       "      <th>no_2</th>\n",
       "      <th>open2</th>\n",
       "    </tr>\n",
       "  </thead>\n",
       "  <tbody>\n",
       "    <tr>\n",
       "      <th>1</th>\n",
       "      <td>66.059998</td>\n",
       "      <td>2017-08-24</td>\n",
       "      <td>AABA</td>\n",
       "      <td>EDP SERVICES</td>\n",
       "      <td>1</td>\n",
       "      <td>2</td>\n",
       "      <td>65.410004</td>\n",
       "    </tr>\n",
       "    <tr>\n",
       "      <th>255</th>\n",
       "      <td>65.410004</td>\n",
       "      <td>2017-08-25</td>\n",
       "      <td>AABA</td>\n",
       "      <td>EDP SERVICES</td>\n",
       "      <td>2</td>\n",
       "      <td>3</td>\n",
       "      <td>64.43</td>\n",
       "    </tr>\n",
       "    <tr>\n",
       "      <th>509</th>\n",
       "      <td>64.43</td>\n",
       "      <td>2017-08-28</td>\n",
       "      <td>AABA</td>\n",
       "      <td>EDP SERVICES</td>\n",
       "      <td>3</td>\n",
       "      <td>4</td>\n",
       "      <td>62.299999</td>\n",
       "    </tr>\n",
       "    <tr>\n",
       "      <th>763</th>\n",
       "      <td>62.299999</td>\n",
       "      <td>2017-08-29</td>\n",
       "      <td>AABA</td>\n",
       "      <td>EDP SERVICES</td>\n",
       "      <td>4</td>\n",
       "      <td>5</td>\n",
       "      <td>63.650002</td>\n",
       "    </tr>\n",
       "    <tr>\n",
       "      <th>1017</th>\n",
       "      <td>63.650002</td>\n",
       "      <td>2017-08-30</td>\n",
       "      <td>AABA</td>\n",
       "      <td>EDP SERVICES</td>\n",
       "      <td>5</td>\n",
       "      <td>6</td>\n",
       "      <td>64.5</td>\n",
       "    </tr>\n",
       "  </tbody>\n",
       "</table>\n",
       "</div>"
      ],
      "text/plain": [
       "          open1       date ticker      industry  no  no_2      open2\n",
       "1     66.059998 2017-08-24   AABA  EDP SERVICES   1     2  65.410004\n",
       "255   65.410004 2017-08-25   AABA  EDP SERVICES   2     3      64.43\n",
       "509       64.43 2017-08-28   AABA  EDP SERVICES   3     4  62.299999\n",
       "763   62.299999 2017-08-29   AABA  EDP SERVICES   4     5  63.650002\n",
       "1017  63.650002 2017-08-30   AABA  EDP SERVICES   5     6       64.5"
      ]
     },
     "execution_count": 23,
     "metadata": {},
     "output_type": "execute_result"
    }
   ],
   "source": [
    "# Displaying the result\n",
    "added_open2.head()"
   ]
  },
  {
   "cell_type": "markdown",
   "metadata": {},
   "source": [
    "Now we are going to add a new variable `daily_return` and call the new data frame as `data_daily_return`. The formula we use is as follows:\n",
    "\n",
    "$$\n",
    "\\text{daily\\_return}=\\frac{open2}{open1}*100-100\n",
    "$$"
   ]
  },
  {
   "cell_type": "code",
   "execution_count": 25,
   "metadata": {},
   "outputs": [],
   "source": [
    "# Calculating daily return\n",
    "added_daily_return = added_open2.copy()\n",
    "added_daily_return['daily_return'] = (\n",
    "    added_daily_return['open2'] / added_daily_return['open1']) * 100 - 100\n",
    "\n",
    "# Selecting specific columns\n",
    "added_daily_return = added_daily_return[[\n",
    "    'date', 'ticker', 'industry', 'no', 'open1', 'open2', 'daily_return']]"
   ]
  },
  {
   "cell_type": "markdown",
   "metadata": {},
   "source": [
    "Now let's look at our new data frame `data_daily_return`."
   ]
  },
  {
   "cell_type": "code",
   "execution_count": 26,
   "metadata": {},
   "outputs": [
    {
     "data": {
      "text/html": [
       "<div>\n",
       "<style scoped>\n",
       "    .dataframe tbody tr th:only-of-type {\n",
       "        vertical-align: middle;\n",
       "    }\n",
       "\n",
       "    .dataframe tbody tr th {\n",
       "        vertical-align: top;\n",
       "    }\n",
       "\n",
       "    .dataframe thead th {\n",
       "        text-align: right;\n",
       "    }\n",
       "</style>\n",
       "<table border=\"1\" class=\"dataframe\">\n",
       "  <thead>\n",
       "    <tr style=\"text-align: right;\">\n",
       "      <th></th>\n",
       "      <th>date</th>\n",
       "      <th>ticker</th>\n",
       "      <th>industry</th>\n",
       "      <th>no</th>\n",
       "      <th>open1</th>\n",
       "      <th>open2</th>\n",
       "      <th>daily_return</th>\n",
       "    </tr>\n",
       "  </thead>\n",
       "  <tbody>\n",
       "    <tr>\n",
       "      <th>1</th>\n",
       "      <td>2017-08-24</td>\n",
       "      <td>AABA</td>\n",
       "      <td>EDP SERVICES</td>\n",
       "      <td>1</td>\n",
       "      <td>66.059998</td>\n",
       "      <td>65.410004</td>\n",
       "      <td>-0.983945</td>\n",
       "    </tr>\n",
       "    <tr>\n",
       "      <th>255</th>\n",
       "      <td>2017-08-25</td>\n",
       "      <td>AABA</td>\n",
       "      <td>EDP SERVICES</td>\n",
       "      <td>2</td>\n",
       "      <td>65.410004</td>\n",
       "      <td>64.43</td>\n",
       "      <td>-1.498247</td>\n",
       "    </tr>\n",
       "    <tr>\n",
       "      <th>509</th>\n",
       "      <td>2017-08-28</td>\n",
       "      <td>AABA</td>\n",
       "      <td>EDP SERVICES</td>\n",
       "      <td>3</td>\n",
       "      <td>64.43</td>\n",
       "      <td>62.299999</td>\n",
       "      <td>-3.305915</td>\n",
       "    </tr>\n",
       "    <tr>\n",
       "      <th>763</th>\n",
       "      <td>2017-08-29</td>\n",
       "      <td>AABA</td>\n",
       "      <td>EDP SERVICES</td>\n",
       "      <td>4</td>\n",
       "      <td>62.299999</td>\n",
       "      <td>63.650002</td>\n",
       "      <td>2.166938</td>\n",
       "    </tr>\n",
       "    <tr>\n",
       "      <th>1017</th>\n",
       "      <td>2017-08-30</td>\n",
       "      <td>AABA</td>\n",
       "      <td>EDP SERVICES</td>\n",
       "      <td>5</td>\n",
       "      <td>63.650002</td>\n",
       "      <td>64.5</td>\n",
       "      <td>1.335426</td>\n",
       "    </tr>\n",
       "  </tbody>\n",
       "</table>\n",
       "</div>"
      ],
      "text/plain": [
       "           date ticker      industry  no      open1      open2 daily_return\n",
       "1    2017-08-24   AABA  EDP SERVICES   1  66.059998  65.410004    -0.983945\n",
       "255  2017-08-25   AABA  EDP SERVICES   2  65.410004      64.43    -1.498247\n",
       "509  2017-08-28   AABA  EDP SERVICES   3      64.43  62.299999    -3.305915\n",
       "763  2017-08-29   AABA  EDP SERVICES   4  62.299999  63.650002     2.166938\n",
       "1017 2017-08-30   AABA  EDP SERVICES   5  63.650002       64.5     1.335426"
      ]
     },
     "execution_count": 26,
     "metadata": {},
     "output_type": "execute_result"
    }
   ],
   "source": [
    "added_daily_return.head()"
   ]
  },
  {
   "cell_type": "markdown",
   "metadata": {},
   "source": [
    "### Dealing with Outliers\n",
    "Before we apply our methods, we would like to deal with the outliers for the variable `daily_return`. We will not remove them, instead, we will replace these values with the upper or lower whisker values for the corresponing `ticker`. \n",
    "So let's group the data by the ticker and also the date."
   ]
  },
  {
   "cell_type": "code",
   "execution_count": 30,
   "metadata": {},
   "outputs": [
    {
     "data": {
      "text/html": [
       "<div>\n",
       "<style scoped>\n",
       "    .dataframe tbody tr th:only-of-type {\n",
       "        vertical-align: middle;\n",
       "    }\n",
       "\n",
       "    .dataframe tbody tr th {\n",
       "        vertical-align: top;\n",
       "    }\n",
       "\n",
       "    .dataframe thead th {\n",
       "        text-align: right;\n",
       "    }\n",
       "</style>\n",
       "<table border=\"1\" class=\"dataframe\">\n",
       "  <thead>\n",
       "    <tr style=\"text-align: right;\">\n",
       "      <th></th>\n",
       "      <th>ticker</th>\n",
       "      <th>date</th>\n",
       "      <th>industry</th>\n",
       "      <th>daily_return</th>\n",
       "      <th>no</th>\n",
       "    </tr>\n",
       "  </thead>\n",
       "  <tbody>\n",
       "    <tr>\n",
       "      <th>0</th>\n",
       "      <td>AABA</td>\n",
       "      <td>2017-08-24</td>\n",
       "      <td>EDP SERVICES</td>\n",
       "      <td>-0.983945</td>\n",
       "      <td>1</td>\n",
       "    </tr>\n",
       "    <tr>\n",
       "      <th>1</th>\n",
       "      <td>AABA</td>\n",
       "      <td>2017-08-25</td>\n",
       "      <td>EDP SERVICES</td>\n",
       "      <td>-1.498247</td>\n",
       "      <td>2</td>\n",
       "    </tr>\n",
       "    <tr>\n",
       "      <th>2</th>\n",
       "      <td>AABA</td>\n",
       "      <td>2017-08-28</td>\n",
       "      <td>EDP SERVICES</td>\n",
       "      <td>-3.305915</td>\n",
       "      <td>3</td>\n",
       "    </tr>\n",
       "    <tr>\n",
       "      <th>3</th>\n",
       "      <td>AABA</td>\n",
       "      <td>2017-08-29</td>\n",
       "      <td>EDP SERVICES</td>\n",
       "      <td>2.166938</td>\n",
       "      <td>4</td>\n",
       "    </tr>\n",
       "    <tr>\n",
       "      <th>4</th>\n",
       "      <td>AABA</td>\n",
       "      <td>2017-08-30</td>\n",
       "      <td>EDP SERVICES</td>\n",
       "      <td>1.335426</td>\n",
       "      <td>5</td>\n",
       "    </tr>\n",
       "  </tbody>\n",
       "</table>\n",
       "</div>"
      ],
      "text/plain": [
       "  ticker       date      industry  daily_return  no\n",
       "0   AABA 2017-08-24  EDP SERVICES     -0.983945   1\n",
       "1   AABA 2017-08-25  EDP SERVICES     -1.498247   2\n",
       "2   AABA 2017-08-28  EDP SERVICES     -3.305915   3\n",
       "3   AABA 2017-08-29  EDP SERVICES      2.166938   4\n",
       "4   AABA 2017-08-30  EDP SERVICES      1.335426   5"
      ]
     },
     "execution_count": 30,
     "metadata": {},
     "output_type": "execute_result"
    }
   ],
   "source": [
    "import numpy as np\n",
    "\n",
    "# Calculating the first and third quartiles for the entire DataFrame\n",
    "Q1 = added_daily_return['daily_return'].quantile(0.25)\n",
    "Q3 = added_daily_return['daily_return'].quantile(0.75)\n",
    "\n",
    "# Calculating the interquartile range and the whiskers\n",
    "IQR = Q3 - Q1\n",
    "max_open1 = Q3 + (IQR * 1.5)  # Upper whisker value\n",
    "min_open1 = Q1 - (IQR * 1.5)  # Lower whisker value\n",
    "\n",
    "# Custom aggregation function for capping daily_return\n",
    "\n",
    "\n",
    "def cap_values(series):\n",
    "    return np.where(\n",
    "        series > max_open1, max_open1,\n",
    "        np.where(series < min_open1, min_open1, series)\n",
    "    ).mean()\n",
    "\n",
    "\n",
    "# Grouping by 'ticker' and 'date' with custom aggregation\n",
    "grouped_date_ticker = added_daily_return.groupby(['ticker', 'date']).agg({\n",
    "    'industry': 'first',\n",
    "    'daily_return': cap_values,  # Apply the custom aggregation function\n",
    "    'no': 'last'\n",
    "}).reset_index()\n",
    "\n",
    "# Displaying the result\n",
    "grouped_date_ticker.head()"
   ]
  },
  {
   "cell_type": "markdown",
   "metadata": {},
   "source": [
    "Now let's look at the summary and the boxplot of `daily_return` after we worked with the outliers."
   ]
  },
  {
   "cell_type": "code",
   "execution_count": 31,
   "metadata": {},
   "outputs": [
    {
     "name": "stdout",
     "output_type": "stream",
     "text": [
      "count    415551.000000\n",
      "mean          0.046163\n",
      "std           1.880895\n",
      "min          -3.977090\n",
      "25%          -0.958304\n",
      "50%           0.000000\n",
      "75%           1.054220\n",
      "max           4.073006\n",
      "Name: daily_return, dtype: float64\n"
     ]
    },
    {
     "data": {
      "image/png": "[encoded data removed]",
      "text/plain": [
       "<Figure size 1000x600 with 1 Axes>"
      ]
     },
     "metadata": {},
     "output_type": "display_data"
    }
   ],
   "source": [
    "import matplotlib.pyplot as plt\n",
    "\n",
    "# Summary statistics for 'daily_return'\n",
    "summary_stats = grouped_date_ticker['daily_return'].describe()\n",
    "print(summary_stats)\n",
    "\n",
    "# Creating a boxplot for 'daily_return'\n",
    "plt.figure(figsize=(10, 6))\n",
    "plt.boxplot(grouped_date_ticker['daily_return'], vert=False)\n",
    "plt.title('Boxplot of Daily Return')\n",
    "plt.xlabel('Daily Return')\n",
    "plt.show()"
   ]
  },
  {
   "cell_type": "markdown",
   "metadata": {},
   "source": [
    "### Changing the `date` values into features\n",
    "The idea is to see the `daily_return` for each `ticker` daily. We will use `spread` function from the `tidyr` package. We have to remove the `rn` variable, otherwise we do not get what we want. You can try and see as an exercise."
   ]
  },
  {
   "cell_type": "code",
   "execution_count": 32,
   "metadata": {},
   "outputs": [
    {
     "data": {
      "text/html": [
       "<div>\n",
       "<style scoped>\n",
       "    .dataframe tbody tr th:only-of-type {\n",
       "        vertical-align: middle;\n",
       "    }\n",
       "\n",
       "    .dataframe tbody tr th {\n",
       "        vertical-align: top;\n",
       "    }\n",
       "\n",
       "    .dataframe thead th {\n",
       "        text-align: right;\n",
       "    }\n",
       "</style>\n",
       "<table border=\"1\" class=\"dataframe\">\n",
       "  <thead>\n",
       "    <tr style=\"text-align: right;\">\n",
       "      <th>date</th>\n",
       "      <th>ticker</th>\n",
       "      <th>industry</th>\n",
       "      <th>2017-08-24 00:00:00</th>\n",
       "      <th>2017-08-25 00:00:00</th>\n",
       "      <th>2017-08-28 00:00:00</th>\n",
       "      <th>2017-08-29 00:00:00</th>\n",
       "    </tr>\n",
       "  </thead>\n",
       "  <tbody>\n",
       "    <tr>\n",
       "      <th>0</th>\n",
       "      <td>AABA</td>\n",
       "      <td>EDP SERVICES</td>\n",
       "      <td>-0.983945</td>\n",
       "      <td>-1.498247</td>\n",
       "      <td>-3.305915</td>\n",
       "      <td>2.166938</td>\n",
       "    </tr>\n",
       "    <tr>\n",
       "      <th>1</th>\n",
       "      <td>AAOI</td>\n",
       "      <td>SEMICONDUCTORS</td>\n",
       "      <td>-3.719710</td>\n",
       "      <td>-0.865664</td>\n",
       "      <td>-2.926910</td>\n",
       "      <td>4.073006</td>\n",
       "    </tr>\n",
       "    <tr>\n",
       "      <th>2</th>\n",
       "      <td>AAON</td>\n",
       "      <td>INDUSTRIAL MACHINERY/COMPONENTS</td>\n",
       "      <td>-0.156737</td>\n",
       "      <td>0.000000</td>\n",
       "      <td>-0.156989</td>\n",
       "      <td>0.471703</td>\n",
       "    </tr>\n",
       "    <tr>\n",
       "      <th>3</th>\n",
       "      <td>AAT</td>\n",
       "      <td>REAL ESTATE INVESTMENT TRUSTS</td>\n",
       "      <td>0.371383</td>\n",
       "      <td>0.789343</td>\n",
       "      <td>-1.321588</td>\n",
       "      <td>-0.297616</td>\n",
       "    </tr>\n",
       "    <tr>\n",
       "      <th>4</th>\n",
       "      <td>AAV</td>\n",
       "      <td>OIL &amp; GAS PRODUCTION</td>\n",
       "      <td>-0.775189</td>\n",
       "      <td>0.781246</td>\n",
       "      <td>-2.325576</td>\n",
       "      <td>0.793646</td>\n",
       "    </tr>\n",
       "  </tbody>\n",
       "</table>\n",
       "</div>"
      ],
      "text/plain": [
       "date ticker                         industry  2017-08-24 00:00:00  \\\n",
       "0      AABA                     EDP SERVICES            -0.983945   \n",
       "1      AAOI                   SEMICONDUCTORS            -3.719710   \n",
       "2      AAON  INDUSTRIAL MACHINERY/COMPONENTS            -0.156737   \n",
       "3       AAT    REAL ESTATE INVESTMENT TRUSTS             0.371383   \n",
       "4       AAV             OIL & GAS PRODUCTION            -0.775189   \n",
       "\n",
       "date  2017-08-25 00:00:00  2017-08-28 00:00:00  2017-08-29 00:00:00  \n",
       "0               -1.498247            -3.305915             2.166938  \n",
       "1               -0.865664            -2.926910             4.073006  \n",
       "2                0.000000            -0.156989             0.471703  \n",
       "3                0.789343            -1.321588            -0.297616  \n",
       "4                0.781246            -2.325576             0.793646  "
      ]
     },
     "execution_count": 32,
     "metadata": {},
     "output_type": "execute_result"
    }
   ],
   "source": [
    "# Dropping the 'no' column\n",
    "grouped_date_ticker.drop('no', axis=1, inplace=True)\n",
    "\n",
    "# Reshaping the data so that each date becomes a column\n",
    "stocks_daily_return = grouped_date_ticker.pivot(\n",
    "    index=['ticker', 'industry'], columns='date', values='daily_return')\n",
    "\n",
    "# Replacing NaN values with 0\n",
    "stocks_daily_return.fillna(0, inplace=True)\n",
    "\n",
    "# Resetting the index to flatten the DataFrame\n",
    "stocks_daily_return.reset_index(inplace=True)\n",
    "\n",
    "# Displaying the first 6 columns of the DataFrame\n",
    "stocks_daily_return.iloc[:, :6].head()"
   ]
  },
  {
   "cell_type": "code",
   "execution_count": 34,
   "metadata": {},
   "outputs": [],
   "source": [
    "# Save the stocks_daily_return DataFrame as a Excel file for further analysis\n",
    "stocks_daily_return.to_excel('../data/excel_data/stocks_daily_return.xlsx', index=False)\n",
    "\n",
    "# Save the dataframe to an Excel file in the stage it was before changing the perspective of the data to a time series format in order to be able to compare the differences between the two perspectives\n",
    "grouped_date_ticker.to_excel('../data/excel_data/grouped_date_ticker.xlsx', index=False)"
   ]
  },
  {
   "cell_type": "markdown",
   "metadata": {},
   "source": [
    "Now, we are ready to apply our methods. We will start with PCA and then TSNE. We will compare both methods. Afterwards, we will study clustering and see if we get consistent results with K-means and hierarchial.\n",
    "### Principal Component Analysis (PCA)\n",
    "In this section, we are going to apply PCA. However, we should be careful with our varibles. PCA handles numerical values, not categorical ones. Also one of the requirements is scaling the dataset. However, we only have one variable to work with, that is `daliy_return` so there is no need to scale.\n",
    "In the below code, we define a new data frame with only numerical features."
   ]
  },
  {
   "cell_type": "code",
   "execution_count": null,
   "metadata": {},
   "outputs": [],
   "source": [
    "rem_cat<-stocks_daily_return[c(-1,-2)] #we remove the categorical variables\n",
    "head(rem_cat[,1:6])"
   ]
  },
  {
   "cell_type": "markdown",
   "metadata": {},
   "source": [
    "Now we are ready to apply PCA to the data set `rem_cat`. Since we have 252 date features, we do not want to show the output of PCA. Instead, we only show the head of the loadings on the first 6 principal components."
   ]
  },
  {
   "cell_type": "code",
   "execution_count": null,
   "metadata": {},
   "outputs": [],
   "source": [
    "pca.out<-prcomp(rem_cat, scale=FALSE) \n",
    "df_out <- as.data.frame(pca.out$x)\n",
    "head(df_out[,1:6])"
   ]
  },
  {
   "cell_type": "markdown",
   "metadata": {},
   "source": [
    "Now let's use `biplot` to plot the PCA results where the axes are PC1 and PC2."
   ]
  },
  {
   "cell_type": "code",
   "execution_count": null,
   "metadata": {},
   "outputs": [],
   "source": [
    "biplot(pca.out, scale=0, cex=1.2) #cex is for the font"
   ]
  },
  {
   "cell_type": "markdown",
   "metadata": {},
   "source": [
    "As seen the plot is very crowded and hard to detect the points, directions, etc. So let's try something else. For that purpose, we will use the package: `ggplot2` and for extra nicer look, we will add the packages: `grid` and `gridExtra`."
   ]
  },
  {
   "cell_type": "code",
   "execution_count": null,
   "metadata": {},
   "outputs": [],
   "source": [
    "library(ggplot2)\n",
    "library(grid)\n",
    "library(gridExtra)\n",
    "p<-ggplot(df_out,aes(x=PC1,y=PC2,color=stocks_daily_return$industry ))\n",
    "p<-p+geom_point()\n",
    "p"
   ]
  },
  {
   "cell_type": "markdown",
   "metadata": {},
   "source": [
    "From the figure, we can say that PCA did a good job in separating oil and gas production from other industries, but not with the rest of the industries.\n",
    "### t-Distributed Stochastic Neighbor Embedding (TSNE) "
   ]
  },
  {
   "cell_type": "code",
   "execution_count": null,
   "metadata": {},
   "outputs": [],
   "source": [
    "## calling the installed package\n",
    "library(Rtsne)\n",
    "rem_cat$label <- stocks_daily_return$industry\n",
    "rem_cat$label<-as.factor(rem_cat$label)\n",
    "tsne <- Rtsne(rem_cat[,-1], dims = 2, perplexity=30, verbose=TRUE, max_iter = 1500)"
   ]
  },
  {
   "cell_type": "markdown",
   "metadata": {},
   "source": [
    "As we did for the PCA, let's see the head of the two vectors of TSNE."
   ]
  },
  {
   "cell_type": "code",
   "execution_count": null,
   "metadata": {},
   "outputs": [],
   "source": [
    "df_out2 <- as.data.frame(tsne$Y)\n",
    "head(df_out2)"
   ]
  },
  {
   "cell_type": "markdown",
   "metadata": {},
   "source": [
    "When we plot the data values where the axes are V1 and V2, we get the following figure."
   ]
  },
  {
   "cell_type": "code",
   "execution_count": null,
   "metadata": {},
   "outputs": [],
   "source": [
    "p<-ggplot(df_out2,aes(x=V1,y=V2,color=stocks_daily_return$industry ))\n",
    "p<-p+geom_point()\n",
    "p"
   ]
  },
  {
   "cell_type": "markdown",
   "metadata": {},
   "source": [
    "Looking at the above figure, we can say that TSNE did a good job in clustering the industries: oil and gas production, major banks, real estate investment trusts, computer software. \n",
    "As a conclusion, if we compare the performance of PCA and TSNE, we can say that TSNE did a better job.\n",
    "### K-Means Clustering\n",
    "In this section, we are going to apply K-Means Clustering to our dataset `rem_cat`. Remember that we added the variable `label` when we did TSNE analysis. We are going to remove it since we only want numerical values again."
   ]
  },
  {
   "cell_type": "code",
   "execution_count": null,
   "metadata": {},
   "outputs": [],
   "source": [
    "rem_cat$label=NULL   #removes the variable `label`"
   ]
  },
  {
   "cell_type": "markdown",
   "metadata": {},
   "source": [
    "Since our dataset has only has 11 industries, we want to pick the number of clusters as 11 and see if K-means does a good job in estimating that."
   ]
  },
  {
   "cell_type": "code",
   "execution_count": null,
   "metadata": {},
   "outputs": [],
   "source": [
    "set.seed(123)\n",
    "km.out=kmeans(rem_cat,11,iter.max = 20,nstart=25) #25 random starts\n",
    "df3_centers <- as.data.frame(km.out$centers)\n",
    "head(df3_centers[,1:6])\n",
    "df3_cluster <- as.data.frame(km.out$cluster)\n",
    "head(df3_cluster)"
   ]
  },
  {
   "cell_type": "markdown",
   "metadata": {},
   "source": [
    "Here is the number of data values in each cluster."
   ]
  },
  {
   "cell_type": "code",
   "execution_count": null,
   "metadata": {},
   "outputs": [],
   "source": [
    "table(km.out$cluster)"
   ]
  },
  {
   "cell_type": "markdown",
   "metadata": {},
   "source": [
    "Now, let's visually see these clusters. The figure we will plot has the axes PC1 and PC2. We are going to use the package `ggfortify` for that. Note that we have to change the column names of centers, otherwise we get an error message: \"Position must be between 0 and n\"."
   ]
  },
  {
   "cell_type": "code",
   "execution_count": null,
   "metadata": {},
   "outputs": [],
   "source": [
    "library(ggfortify)\n",
    "colnames(km.out$centers) <- 1:252\n",
    "autoplot(km.out, data=rem_cat)"
   ]
  },
  {
   "cell_type": "markdown",
   "metadata": {},
   "source": [
    "Now, let's compare our K-means results and the industries we had in our dataset. We can use `table` to see how well they match.  "
   ]
  },
  {
   "cell_type": "code",
   "execution_count": null,
   "metadata": {},
   "outputs": [],
   "source": [
    "library(knitr)\n",
    "d <- table(stocks_daily_return$industry,km.out$cluster)\n",
    "kable(d)"
   ]
  },
  {
   "cell_type": "markdown",
   "metadata": {},
   "source": [
    "Looking at the table, we can tell that K-Means did a fair job in clustering. For instance, 155 out of 215 data points that belong to Real Estate Investment Trusts were put in one cluster. 211 out of 328 of Major Banks were put in one cluster. \n",
    "Besides the table, we are going to use `rand.index` function from the package `fossil`. This function is used to measure to compare the similarity of two clustering outcomes. Here we will use this function to compare the true labels and the K-means labels. Note that this function does not accept the industry names, so we change them to numerics as follows:"
   ]
  },
  {
   "cell_type": "code",
   "execution_count": null,
   "metadata": {},
   "outputs": [],
   "source": [
    "library(fossil)\n",
    "stocks_daily_return$industry_numeric<-as.factor(stocks_daily_return$industry)\n",
    "stocks_daily_return$industry_numeric<-as.numeric(stocks_daily_return$industry_numeric)\n",
    "rand.index(stocks_daily_return$industry_numeric,km.out$cluster)"
   ]
  },
  {
   "cell_type": "markdown",
   "metadata": {},
   "source": [
    "### Elbow Method\n",
    "Even though we picked the number of clusters as 11, it is worth trying to see if there is any optimal value for the number of clusters. Below is the code that tries for the number of clusters that starts from 2 and goes up to 15 by increasing the number by 1 at each run.\n",
    "\n",
    "### Elbow Method for finding the optimal number of clusters"
   ]
  },
  {
   "cell_type": "code",
   "execution_count": null,
   "metadata": {},
   "outputs": [],
   "source": [
    "set.seed(123)\n",
    "# Compute and plot wss for k = 2 to k = 15.\n",
    "k.max <- 15\n",
    "data <- rem_cat\n",
    "wss <- sapply(1:k.max, \n",
    "              function(k){kmeans(data, k, nstart=25,iter.max = 20 )$tot.withinss})\n",
    "wss\n",
    "plot(1:k.max, wss,\n",
    "     type=\"b\", pch = 19, frame = FALSE, \n",
    "     xlab=\"Number of clusters K\",\n",
    "     ylab=\"Total within-clusters sum of squares\")"
   ]
  },
  {
   "cell_type": "markdown",
   "metadata": {},
   "source": [
    "The total within-cluster sum of square measures the compactness of the clustering and we want it to be as small as possible. For k=11 seems like a good choice for number of clusters so we are not going to try for another k value.\n",
    "### Hierarchical Clustering\n",
    "In this final section, we are going to apply hierarchical clustering. We are going to use `hclust` function and pick our method as \"complete\"."
   ]
  },
  {
   "cell_type": "code",
   "execution_count": null,
   "metadata": {},
   "outputs": [],
   "source": [
    "hc.complete<-hclust(dist(rem_cat), method=\"complete\") #largest distance between the data points in the clusters"
   ]
  },
  {
   "cell_type": "markdown",
   "metadata": {},
   "source": [
    "We will again pick the number of clusters are equal to 11."
   ]
  },
  {
   "cell_type": "code",
   "execution_count": null,
   "metadata": {},
   "outputs": [],
   "source": [
    "cut_avg <- cutree(hc.complete, k = 11)\n",
    "table(cut_avg)"
   ]
  },
  {
   "cell_type": "markdown",
   "metadata": {},
   "source": [
    "The table shows that most of the data values are in cluster 1 and 2. Let's visualize this by using the package `dendextend`."
   ]
  },
  {
   "cell_type": "code",
   "execution_count": null,
   "metadata": {},
   "outputs": [],
   "source": [
    "library(dendextend)\n",
    "avg_dend_obj <- as.dendrogram(hc.complete)\n",
    "avg_col_dend <- color_branches(avg_dend_obj, k = 11)\n",
    "plot(avg_col_dend)"
   ]
  },
  {
   "cell_type": "markdown",
   "metadata": {},
   "source": [
    "Now, let's compare our hierarchial clustering results and the industries we had in our dataset. We can use `table` to see how well they match. "
   ]
  },
  {
   "cell_type": "code",
   "execution_count": null,
   "metadata": {},
   "outputs": [],
   "source": [
    "d <- table(stocks_daily_return$industry,cut_avg)\n",
    "kable(d)"
   ]
  },
  {
   "cell_type": "markdown",
   "metadata": {},
   "source": [
    "By looking at this table, we can conclude that hierarchial clustering did not perform well, since most of the data points were assigned to one cluster.\n",
    "Let's use the same function we used for K-means clustering to see its performance."
   ]
  },
  {
   "cell_type": "code",
   "execution_count": null,
   "metadata": {},
   "outputs": [],
   "source": [
    "library(fossil)\n",
    "rand.index(stocks_daily_return$industry_numeric,cut_avg)"
   ]
  },
  {
   "cell_type": "markdown",
   "metadata": {},
   "source": [
    "We can conclude that K-means (with rand.index= 0.839407) did perform better than hierarchial clustering (with rand.index= 0.535644)."
   ]
  }
 ],
 "metadata": {
  "kernelspec": {
   "display_name": "notebook39",
   "language": "python",
   "name": "python3"
  },
  "language_info": {
   "codemirror_mode": {
    "name": "ipython",
    "version": 3
   },
   "file_extension": ".py",
   "mimetype": "text/x-python",
   "name": "python",
   "nbconvert_exporter": "python",
   "pygments_lexer": "ipython3",
   "version": "3.9.18"
  }
 },
 "nbformat": 4,
 "nbformat_minor": 1
}
